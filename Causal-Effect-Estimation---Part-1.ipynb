{
 "cells": [
  {
   "cell_type": "markdown",
   "id": "fe7172ed",
   "metadata": {},
   "source": [
    "# Estimating Causal Effect for Driver-Incentive Program Experiment"
   ]
  },
  {
   "cell_type": "markdown",
   "id": "8228cb2e",
   "metadata": {},
   "source": [
    "## Experiment Setup and Dataset Summary\n",
    "This dataset originates from a three-month randomized controlled trial (RCT) conducted by a ride-hailing firm to test a new driver incentive program.\n",
    "- Purpose: Assess the program’s impact on the following key driver outcomes\n",
    "    - minutes driven per day\n",
    "    - probability of driving per day\n",
    "    - earnings per day\n",
    "\n",
    "- Context: The program was anticipated to be popular among drivers, and participating cities were eager to implement it.\n",
    "\n",
    "- Driver Qualification:\n",
    "    - Drivers were eligible for entering the experiment based on several criteria, the most important being activity level in the previous month.\n",
    "    - For instance, only drivers in the top quartile of total minutes driven within their city qualified.\n",
    "\n",
    "- Rollout Design:\n",
    "    - Each city was given a designated start date and a standardized SQL query to identify *qualified* drivers.\n",
    "    - On the start date, cities would begin to take the list of all eligible drivers on that date, stratifying them by recent activity levels (mostly minutes driven in the last month).\n",
    "    - Importantly, following their start dates, cities re-run the SQL query daily to identify and enroll newly qualified drivers, who were then similarly stratified and added to the experiment.\n",
    "\n",
    "- Experiment Assignment:\n",
    "    - Qualified drivers were restrictively randomized to treatment or control groups after stratification.\n",
    "    - This process was ongoing, with new drivers added throughout the trial as they became eligible.\n",
    "\n",
    "- Treatment vs. Control:\n",
    "    - Treated drivers received an email introducing the incentive and instructions on how to apply (acceptance is not automatic and is subject to meeting financial criteria).\n",
    "    - Control drivers received a similar email but were informed that the incentive would be available soon.\n",
    "\n",
    "### Project Scope\n",
    "In this notebook, I explore several commonly used causal inference methods and discuss why some are unsuitable for this experimental setting. The goal is to understand when and why to use each method to uncover the true causal effect."
   ]
  },
  {
   "cell_type": "code",
   "execution_count": 1,
   "id": "3315c9c2",
   "metadata": {},
   "outputs": [],
   "source": [
    "import pandas as pd\n",
    "import numpy as np\n",
    "import statsmodels.api as sm\n",
    "import statsmodels.formula.api as smf\n",
    "from scipy import stats\n",
    "from linearmodels.panel import PanelOLS\n",
    "from linearmodels.iv.absorbing import AbsorbingLS\n",
    "import matplotlib.pyplot as plt\n",
    "from linearmodels.iv import IV2SLS"
   ]
  },
  {
   "cell_type": "markdown",
   "id": "dd74d0e6",
   "metadata": {},
   "source": [
    "## Understanding the Data"
   ]
  },
  {
   "cell_type": "code",
   "execution_count": 2,
   "id": "e35fe527",
   "metadata": {},
   "outputs": [
    {
     "data": {
      "text/html": [
       "<div>\n",
       "<style scoped>\n",
       "    .dataframe tbody tr th:only-of-type {\n",
       "        vertical-align: middle;\n",
       "    }\n",
       "\n",
       "    .dataframe tbody tr th {\n",
       "        vertical-align: top;\n",
       "    }\n",
       "\n",
       "    .dataframe thead th {\n",
       "        text-align: right;\n",
       "    }\n",
       "</style>\n",
       "<table border=\"1\" class=\"dataframe\">\n",
       "  <thead>\n",
       "    <tr style=\"text-align: right;\">\n",
       "      <th></th>\n",
       "      <th>Date</th>\n",
       "      <th>Earnings_Dollars</th>\n",
       "      <th>DistanceDriven_Miles</th>\n",
       "      <th>TimeDriving_Minutes</th>\n",
       "      <th>Driver_ID</th>\n",
       "    </tr>\n",
       "  </thead>\n",
       "  <tbody>\n",
       "    <tr>\n",
       "      <th>0</th>\n",
       "      <td>04mar2016</td>\n",
       "      <td>86</td>\n",
       "      <td>69</td>\n",
       "      <td>257</td>\n",
       "      <td>1</td>\n",
       "    </tr>\n",
       "    <tr>\n",
       "      <th>1</th>\n",
       "      <td>05mar2016</td>\n",
       "      <td>103</td>\n",
       "      <td>54</td>\n",
       "      <td>212</td>\n",
       "      <td>1</td>\n",
       "    </tr>\n",
       "    <tr>\n",
       "      <th>2</th>\n",
       "      <td>06mar2016</td>\n",
       "      <td>185</td>\n",
       "      <td>124</td>\n",
       "      <td>414</td>\n",
       "      <td>1</td>\n",
       "    </tr>\n",
       "    <tr>\n",
       "      <th>3</th>\n",
       "      <td>07mar2016</td>\n",
       "      <td>21</td>\n",
       "      <td>18</td>\n",
       "      <td>69</td>\n",
       "      <td>1</td>\n",
       "    </tr>\n",
       "    <tr>\n",
       "      <th>4</th>\n",
       "      <td>08mar2016</td>\n",
       "      <td>59</td>\n",
       "      <td>50</td>\n",
       "      <td>257</td>\n",
       "      <td>1</td>\n",
       "    </tr>\n",
       "    <tr>\n",
       "      <th>5</th>\n",
       "      <td>10mar2016</td>\n",
       "      <td>142</td>\n",
       "      <td>103</td>\n",
       "      <td>544</td>\n",
       "      <td>1</td>\n",
       "    </tr>\n",
       "    <tr>\n",
       "      <th>6</th>\n",
       "      <td>11mar2016</td>\n",
       "      <td>131</td>\n",
       "      <td>88</td>\n",
       "      <td>296</td>\n",
       "      <td>1</td>\n",
       "    </tr>\n",
       "    <tr>\n",
       "      <th>7</th>\n",
       "      <td>12mar2016</td>\n",
       "      <td>173</td>\n",
       "      <td>66</td>\n",
       "      <td>269</td>\n",
       "      <td>1</td>\n",
       "    </tr>\n",
       "    <tr>\n",
       "      <th>8</th>\n",
       "      <td>13mar2016</td>\n",
       "      <td>129</td>\n",
       "      <td>72</td>\n",
       "      <td>303</td>\n",
       "      <td>1</td>\n",
       "    </tr>\n",
       "    <tr>\n",
       "      <th>9</th>\n",
       "      <td>15mar2016</td>\n",
       "      <td>105</td>\n",
       "      <td>52</td>\n",
       "      <td>219</td>\n",
       "      <td>1</td>\n",
       "    </tr>\n",
       "  </tbody>\n",
       "</table>\n",
       "</div>"
      ],
      "text/plain": [
       "        Date  Earnings_Dollars  DistanceDriven_Miles  TimeDriving_Minutes  \\\n",
       "0  04mar2016                86                    69                  257   \n",
       "1  05mar2016               103                    54                  212   \n",
       "2  06mar2016               185                   124                  414   \n",
       "3  07mar2016                21                    18                   69   \n",
       "4  08mar2016                59                    50                  257   \n",
       "5  10mar2016               142                   103                  544   \n",
       "6  11mar2016               131                    88                  296   \n",
       "7  12mar2016               173                    66                  269   \n",
       "8  13mar2016               129                    72                  303   \n",
       "9  15mar2016               105                    52                  219   \n",
       "\n",
       "   Driver_ID  \n",
       "0          1  \n",
       "1          1  \n",
       "2          1  \n",
       "3          1  \n",
       "4          1  \n",
       "5          1  \n",
       "6          1  \n",
       "7          1  \n",
       "8          1  \n",
       "9          1  "
      ]
     },
     "execution_count": 2,
     "metadata": {},
     "output_type": "execute_result"
    }
   ],
   "source": [
    "daysdf = pd.read_csv('data/Driver_Days.csv')\n",
    "conditiondf = pd.read_csv('data/Driver_Condition.csv')\n",
    "enrollmentdf = pd.read_csv('data/Driver_Enrollment.csv')\n",
    "daysdf.head(10)"
   ]
  },
  {
   "cell_type": "markdown",
   "id": "ce792001",
   "metadata": {},
   "source": [
    "Notice from above that observations where the driver chose not to drive that day are unavailable. Hence, adding the skipped dates is needed to create a balanced panel of data."
   ]
  },
  {
   "cell_type": "code",
   "execution_count": 3,
   "id": "a1aa81c6",
   "metadata": {},
   "outputs": [
    {
     "data": {
      "text/html": [
       "<div>\n",
       "<style scoped>\n",
       "    .dataframe tbody tr th:only-of-type {\n",
       "        vertical-align: middle;\n",
       "    }\n",
       "\n",
       "    .dataframe tbody tr th {\n",
       "        vertical-align: top;\n",
       "    }\n",
       "\n",
       "    .dataframe thead th {\n",
       "        text-align: right;\n",
       "    }\n",
       "</style>\n",
       "<table border=\"1\" class=\"dataframe\">\n",
       "  <thead>\n",
       "    <tr style=\"text-align: right;\">\n",
       "      <th></th>\n",
       "      <th>Driver_ID</th>\n",
       "      <th>Date</th>\n",
       "      <th>Earnings_Dollars</th>\n",
       "      <th>DistanceDriven_Miles</th>\n",
       "      <th>TimeDriving_Minutes</th>\n",
       "      <th>Drove</th>\n",
       "    </tr>\n",
       "  </thead>\n",
       "  <tbody>\n",
       "    <tr>\n",
       "      <th>0</th>\n",
       "      <td>1</td>\n",
       "      <td>2016-03-04</td>\n",
       "      <td>86.0</td>\n",
       "      <td>69.0</td>\n",
       "      <td>257.0</td>\n",
       "      <td>1</td>\n",
       "    </tr>\n",
       "    <tr>\n",
       "      <th>1</th>\n",
       "      <td>1</td>\n",
       "      <td>2016-03-05</td>\n",
       "      <td>103.0</td>\n",
       "      <td>54.0</td>\n",
       "      <td>212.0</td>\n",
       "      <td>1</td>\n",
       "    </tr>\n",
       "    <tr>\n",
       "      <th>2</th>\n",
       "      <td>1</td>\n",
       "      <td>2016-03-06</td>\n",
       "      <td>185.0</td>\n",
       "      <td>124.0</td>\n",
       "      <td>414.0</td>\n",
       "      <td>1</td>\n",
       "    </tr>\n",
       "    <tr>\n",
       "      <th>3</th>\n",
       "      <td>1</td>\n",
       "      <td>2016-03-07</td>\n",
       "      <td>21.0</td>\n",
       "      <td>18.0</td>\n",
       "      <td>69.0</td>\n",
       "      <td>1</td>\n",
       "    </tr>\n",
       "    <tr>\n",
       "      <th>4</th>\n",
       "      <td>1</td>\n",
       "      <td>2016-03-08</td>\n",
       "      <td>59.0</td>\n",
       "      <td>50.0</td>\n",
       "      <td>257.0</td>\n",
       "      <td>1</td>\n",
       "    </tr>\n",
       "    <tr>\n",
       "      <th>5</th>\n",
       "      <td>1</td>\n",
       "      <td>2016-03-09</td>\n",
       "      <td>0.0</td>\n",
       "      <td>0.0</td>\n",
       "      <td>0.0</td>\n",
       "      <td>0</td>\n",
       "    </tr>\n",
       "    <tr>\n",
       "      <th>6</th>\n",
       "      <td>1</td>\n",
       "      <td>2016-03-10</td>\n",
       "      <td>142.0</td>\n",
       "      <td>103.0</td>\n",
       "      <td>544.0</td>\n",
       "      <td>1</td>\n",
       "    </tr>\n",
       "    <tr>\n",
       "      <th>7</th>\n",
       "      <td>1</td>\n",
       "      <td>2016-03-11</td>\n",
       "      <td>131.0</td>\n",
       "      <td>88.0</td>\n",
       "      <td>296.0</td>\n",
       "      <td>1</td>\n",
       "    </tr>\n",
       "    <tr>\n",
       "      <th>8</th>\n",
       "      <td>1</td>\n",
       "      <td>2016-03-12</td>\n",
       "      <td>173.0</td>\n",
       "      <td>66.0</td>\n",
       "      <td>269.0</td>\n",
       "      <td>1</td>\n",
       "    </tr>\n",
       "    <tr>\n",
       "      <th>9</th>\n",
       "      <td>1</td>\n",
       "      <td>2016-03-13</td>\n",
       "      <td>129.0</td>\n",
       "      <td>72.0</td>\n",
       "      <td>303.0</td>\n",
       "      <td>1</td>\n",
       "    </tr>\n",
       "  </tbody>\n",
       "</table>\n",
       "</div>"
      ],
      "text/plain": [
       "   Driver_ID       Date  Earnings_Dollars  DistanceDriven_Miles  \\\n",
       "0          1 2016-03-04              86.0                  69.0   \n",
       "1          1 2016-03-05             103.0                  54.0   \n",
       "2          1 2016-03-06             185.0                 124.0   \n",
       "3          1 2016-03-07              21.0                  18.0   \n",
       "4          1 2016-03-08              59.0                  50.0   \n",
       "5          1 2016-03-09               0.0                   0.0   \n",
       "6          1 2016-03-10             142.0                 103.0   \n",
       "7          1 2016-03-11             131.0                  88.0   \n",
       "8          1 2016-03-12             173.0                  66.0   \n",
       "9          1 2016-03-13             129.0                  72.0   \n",
       "\n",
       "   TimeDriving_Minutes  Drove  \n",
       "0                257.0      1  \n",
       "1                212.0      1  \n",
       "2                414.0      1  \n",
       "3                 69.0      1  \n",
       "4                257.0      1  \n",
       "5                  0.0      0  \n",
       "6                544.0      1  \n",
       "7                296.0      1  \n",
       "8                269.0      1  \n",
       "9                303.0      1  "
      ]
     },
     "execution_count": 3,
     "metadata": {},
     "output_type": "execute_result"
    }
   ],
   "source": [
    "daysdf['Date'] = pd.to_datetime(daysdf['Date'], format='%d%b%Y')\n",
    "\n",
    "driver_ranges = daysdf.groupby('Driver_ID')['Date'].agg(['min', 'max']).reset_index()\n",
    "all_rows = []\n",
    "\n",
    "for _, row in driver_ranges.iterrows():\n",
    "    driver_id = row['Driver_ID']\n",
    "    date_range = pd.date_range(start=row['min'], end=row['max'], freq='D')\n",
    "    temp = pd.DataFrame({\n",
    "        'Driver_ID': driver_id,\n",
    "        'Date': date_range,\n",
    "    })\n",
    "    all_rows.append(temp)\n",
    "\n",
    "full_driver_days = pd.concat(all_rows, ignore_index=True)\n",
    "daysdf_balanced = full_driver_days.merge(daysdf, on=['Driver_ID', 'Date'], how='left')\n",
    "\n",
    "for col in ['Earnings_Dollars', 'DistanceDriven_Miles', 'TimeDriving_Minutes']:\n",
    "    daysdf_balanced[col] = daysdf_balanced[col].fillna(0)\n",
    "    \n",
    "daysdf_balanced['Drove'] = (daysdf_balanced['TimeDriving_Minutes'] > 0).astype(int)\n",
    "\n",
    "daysdf_balanced.head(10)"
   ]
  },
  {
   "cell_type": "markdown",
   "id": "26bfda8b",
   "metadata": {},
   "source": [
    "Merging the data."
   ]
  },
  {
   "cell_type": "code",
   "execution_count": 4,
   "id": "b6d16744",
   "metadata": {},
   "outputs": [],
   "source": [
    "df = daysdf_balanced.merge(conditiondf, on='Driver_ID', how='inner')\n",
    "df['Driver_ExperStartDate'] = pd.to_datetime(df['Driver_ExperStartDate'], format='%d%b%Y')\n",
    "\n",
    "df['DaysSinceStart'] = (df['Date'] - df['Driver_ExperStartDate']).dt.days.clip(lower=0).astype(int)\n",
    "\n",
    "df = df.merge(enrollmentdf, on='Driver_ID', how='left')\n",
    "\n",
    "df['AppliedDate'] = pd.to_datetime(df['Applied'], format='%d%b%Y')\n",
    "df['EnrolledDate'] = pd.to_datetime(df['Enrolled'], format='%d%b%Y')\n",
    "\n",
    "df['EverApplied'] = df['AppliedDate'].notnull().astype(int)\n",
    "df['EverEnrolled'] = df['EnrolledDate'].notnull().astype(int)\n",
    "\n",
    "df['Applied'] = (df['Date'] >= df['AppliedDate']).astype(int)\n",
    "df['Enrolled'] = (df['Date'] >= df['EnrolledDate']).astype(int)"
   ]
  },
  {
   "cell_type": "markdown",
   "id": "c0b44cf7",
   "metadata": {},
   "source": [
    "Since treated drivers receive an email introducing the incentive along with instructions on how to apply, there is typically a delay before they take action—such as applying, enrolling, or beginning to use the program. As a result, the experiment's impact may not be immediate, even after the official start date.\n",
    "\n",
    "This necessitates a careful decision on how to *define the “post-treatment” period*. The trade-off is as follows:\n",
    "- **If defined too early**: While this includes the full sample, most drivers have not yet acted, leading to low take-up and a potentially underestimated treatment effect.\n",
    "- **If defined too late**: While take-up is higher and effects may appear more pronounced, fewer drivers have been observed for that duration, leading to a reduced sample size and potential selection bias toward early entrants—who, as we will discuss later, differ in important ways from newer entrants in the sample.\n",
    "\n",
    "To assess the extent of this trade-off, particularly how much of the sample is affected by shorter observation windows, we begin by visualizing the distribution of observations by the number of days since (driver-specific) experiment start date."
   ]
  },
  {
   "cell_type": "code",
   "execution_count": 5,
   "id": "856813c8",
   "metadata": {},
   "outputs": [
    {
     "data": {
      "image/png": "[encoded data removed]",
      "text/plain": [
       "<Figure size 1000x600 with 1 Axes>"
      ]
     },
     "metadata": {},
     "output_type": "display_data"
    }
   ],
   "source": [
    "day_counts = df['DaysSinceStart'].value_counts().sort_index()\n",
    "\n",
    "plt.figure(figsize=(10,6))\n",
    "plt.bar(day_counts.index, day_counts.values, color='skyblue', edgecolor='black')\n",
    "plt.xlabel('Days Since (Driver-Specific) Experiment Start Date')\n",
    "plt.ylabel('Number of Observations')\n",
    "plt.title('Distribution of Observations by Days Since Start')\n",
    "plt.ylim(0, 160000)\n",
    "\n",
    "plt.axvline(x=14, color='black', linestyle='--')\n",
    "plt.text(14.5, 120000, 'Post 2 Weeks', rotation=90, verticalalignment='bottom')\n",
    "\n",
    "if 0 in day_counts.index:\n",
    "    obs_count = f\"{day_counts.loc[0]:,}\"\n",
    "    plt.text(0.98, 0.95, f\"At day 0 there are {obs_count} observations\", \n",
    "             ha='right', va='top', transform=plt.gca().transAxes, fontsize=10)\n",
    "\n",
    "plt.tight_layout()\n",
    "plt.show()"
   ]
  },
  {
   "cell_type": "markdown",
   "id": "2e3a770e",
   "metadata": {},
   "source": [
    "A application and enrollment rate amonst the treated can be used to assess when the experiment starts to take effect."
   ]
  },
  {
   "cell_type": "code",
   "execution_count": 6,
   "id": "ffa76cf3",
   "metadata": {},
   "outputs": [
    {
     "data": {
      "image/png": "[encoded data removed]",
      "text/plain": [
       "<Figure size 1000x600 with 1 Axes>"
      ]
     },
     "metadata": {},
     "output_type": "display_data"
    }
   ],
   "source": [
    "takeup = (\n",
    "    df[df['Treated'] == 1]\n",
    "    .groupby('DaysSinceStart')[['Applied', 'Enrolled']]\n",
    "    .mean()\n",
    ")\n",
    "\n",
    "plt.figure(figsize=(10,6))\n",
    "plt.plot(takeup.index, takeup['Applied'], label='Applied', color='red', marker='o')\n",
    "plt.plot(takeup.index, takeup['Enrolled'], label='Enrolled', color='blue', marker='o')\n",
    "\n",
    "plt.axvline(x=14, color='black', linestyle='--')\n",
    "plt.text(14.5, 0.01, 'Post 2 Weeks', rotation=90, verticalalignment='bottom')\n",
    "\n",
    "plt.xlabel('Days Since (Driver-Specific) Experiment Start Date')\n",
    "plt.ylabel('Cumulative Take-Up Rate')\n",
    "plt.title('Cumulative Take-Up Rates Among Treated Drivers')\n",
    "plt.legend()\n",
    "plt.grid(True)\n",
    "plt.tight_layout()\n",
    "plt.show()"
   ]
  },
  {
   "cell_type": "markdown",
   "id": "57cfc584",
   "metadata": {},
   "source": [
    "Based on the two graphs above, setting the post-treatment period at three weeks strikes a reasonable balance: it retains a substantial portion of the sample while ensuring that cumulative take-up rates have reached a meaningful level."
   ]
  },
  {
   "cell_type": "code",
   "execution_count": 7,
   "id": "9b5c2a99",
   "metadata": {},
   "outputs": [
    {
     "data": {
      "text/html": [
       "<div>\n",
       "<style scoped>\n",
       "    .dataframe tbody tr th:only-of-type {\n",
       "        vertical-align: middle;\n",
       "    }\n",
       "\n",
       "    .dataframe tbody tr th {\n",
       "        vertical-align: top;\n",
       "    }\n",
       "\n",
       "    .dataframe thead th {\n",
       "        text-align: right;\n",
       "    }\n",
       "</style>\n",
       "<table border=\"1\" class=\"dataframe\">\n",
       "  <thead>\n",
       "    <tr style=\"text-align: right;\">\n",
       "      <th></th>\n",
       "      <th>Driver_ID</th>\n",
       "      <th>Driver_City</th>\n",
       "      <th>Driver_ExperStartDate</th>\n",
       "      <th>Date</th>\n",
       "      <th>AppliedDate</th>\n",
       "      <th>EnrolledDate</th>\n",
       "      <th>DaysSinceStart</th>\n",
       "      <th>Earnings_Dollars</th>\n",
       "      <th>DistanceDriven_Miles</th>\n",
       "      <th>TimeDriving_Minutes</th>\n",
       "      <th>Drove</th>\n",
       "      <th>Treated</th>\n",
       "      <th>After</th>\n",
       "      <th>Applied</th>\n",
       "      <th>Enrolled</th>\n",
       "      <th>EverApplied</th>\n",
       "      <th>EverEnrolled</th>\n",
       "    </tr>\n",
       "  </thead>\n",
       "  <tbody>\n",
       "    <tr>\n",
       "      <th>0</th>\n",
       "      <td>1</td>\n",
       "      <td>26</td>\n",
       "      <td>2016-03-30</td>\n",
       "      <td>2016-03-04</td>\n",
       "      <td>NaT</td>\n",
       "      <td>NaT</td>\n",
       "      <td>0</td>\n",
       "      <td>86.0</td>\n",
       "      <td>69.0</td>\n",
       "      <td>257.0</td>\n",
       "      <td>1</td>\n",
       "      <td>0</td>\n",
       "      <td>0</td>\n",
       "      <td>0</td>\n",
       "      <td>0</td>\n",
       "      <td>0</td>\n",
       "      <td>0</td>\n",
       "    </tr>\n",
       "    <tr>\n",
       "      <th>1</th>\n",
       "      <td>1</td>\n",
       "      <td>26</td>\n",
       "      <td>2016-03-30</td>\n",
       "      <td>2016-03-05</td>\n",
       "      <td>NaT</td>\n",
       "      <td>NaT</td>\n",
       "      <td>0</td>\n",
       "      <td>103.0</td>\n",
       "      <td>54.0</td>\n",
       "      <td>212.0</td>\n",
       "      <td>1</td>\n",
       "      <td>0</td>\n",
       "      <td>0</td>\n",
       "      <td>0</td>\n",
       "      <td>0</td>\n",
       "      <td>0</td>\n",
       "      <td>0</td>\n",
       "    </tr>\n",
       "    <tr>\n",
       "      <th>2</th>\n",
       "      <td>1</td>\n",
       "      <td>26</td>\n",
       "      <td>2016-03-30</td>\n",
       "      <td>2016-03-06</td>\n",
       "      <td>NaT</td>\n",
       "      <td>NaT</td>\n",
       "      <td>0</td>\n",
       "      <td>185.0</td>\n",
       "      <td>124.0</td>\n",
       "      <td>414.0</td>\n",
       "      <td>1</td>\n",
       "      <td>0</td>\n",
       "      <td>0</td>\n",
       "      <td>0</td>\n",
       "      <td>0</td>\n",
       "      <td>0</td>\n",
       "      <td>0</td>\n",
       "    </tr>\n",
       "    <tr>\n",
       "      <th>3</th>\n",
       "      <td>1</td>\n",
       "      <td>26</td>\n",
       "      <td>2016-03-30</td>\n",
       "      <td>2016-03-07</td>\n",
       "      <td>NaT</td>\n",
       "      <td>NaT</td>\n",
       "      <td>0</td>\n",
       "      <td>21.0</td>\n",
       "      <td>18.0</td>\n",
       "      <td>69.0</td>\n",
       "      <td>1</td>\n",
       "      <td>0</td>\n",
       "      <td>0</td>\n",
       "      <td>0</td>\n",
       "      <td>0</td>\n",
       "      <td>0</td>\n",
       "      <td>0</td>\n",
       "    </tr>\n",
       "    <tr>\n",
       "      <th>4</th>\n",
       "      <td>1</td>\n",
       "      <td>26</td>\n",
       "      <td>2016-03-30</td>\n",
       "      <td>2016-03-08</td>\n",
       "      <td>NaT</td>\n",
       "      <td>NaT</td>\n",
       "      <td>0</td>\n",
       "      <td>59.0</td>\n",
       "      <td>50.0</td>\n",
       "      <td>257.0</td>\n",
       "      <td>1</td>\n",
       "      <td>0</td>\n",
       "      <td>0</td>\n",
       "      <td>0</td>\n",
       "      <td>0</td>\n",
       "      <td>0</td>\n",
       "      <td>0</td>\n",
       "    </tr>\n",
       "  </tbody>\n",
       "</table>\n",
       "</div>"
      ],
      "text/plain": [
       "   Driver_ID  Driver_City Driver_ExperStartDate       Date AppliedDate  \\\n",
       "0          1           26            2016-03-30 2016-03-04         NaT   \n",
       "1          1           26            2016-03-30 2016-03-05         NaT   \n",
       "2          1           26            2016-03-30 2016-03-06         NaT   \n",
       "3          1           26            2016-03-30 2016-03-07         NaT   \n",
       "4          1           26            2016-03-30 2016-03-08         NaT   \n",
       "\n",
       "  EnrolledDate  DaysSinceStart  Earnings_Dollars  DistanceDriven_Miles  \\\n",
       "0          NaT               0              86.0                  69.0   \n",
       "1          NaT               0             103.0                  54.0   \n",
       "2          NaT               0             185.0                 124.0   \n",
       "3          NaT               0              21.0                  18.0   \n",
       "4          NaT               0              59.0                  50.0   \n",
       "\n",
       "   TimeDriving_Minutes  Drove  Treated  After  Applied  Enrolled  EverApplied  \\\n",
       "0                257.0      1        0      0        0         0            0   \n",
       "1                212.0      1        0      0        0         0            0   \n",
       "2                414.0      1        0      0        0         0            0   \n",
       "3                 69.0      1        0      0        0         0            0   \n",
       "4                257.0      1        0      0        0         0            0   \n",
       "\n",
       "   EverEnrolled  \n",
       "0             0  \n",
       "1             0  \n",
       "2             0  \n",
       "3             0  \n",
       "4             0  "
      ]
     },
     "execution_count": 7,
     "metadata": {},
     "output_type": "execute_result"
    }
   ],
   "source": [
    "df['After'] = (df['Date'] >= df['Driver_ExperStartDate'] + pd.Timedelta(days=14)).astype(int)\n",
    "df = df[[\n",
    "    'Driver_ID', 'Driver_City', 'Driver_ExperStartDate', 'Date',\n",
    "    'AppliedDate', 'EnrolledDate', 'DaysSinceStart',\n",
    "    'Earnings_Dollars', 'DistanceDriven_Miles', 'TimeDriving_Minutes',\n",
    "    'Drove', 'Treated', 'After', \n",
    "    'Applied', 'Enrolled', 'EverApplied', 'EverEnrolled'\n",
    "]]\n",
    "\n",
    "df.head()"
   ]
  },
  {
   "cell_type": "markdown",
   "id": "4b8131fe",
   "metadata": {},
   "source": [
    "## Standard A/B Testing Approach\n",
    "One might see an experimental setup and immediately be inclined to a standard A/B testing procedure to estimating the effect. \n",
    "- (The sample is stratified and randomized into treatment and control, what could go wrong?)\n",
    "- I want to demonstrate why a standard A/B testing procedure might produce misleading results in this setting and why it should be used carefully."
   ]
  },
  {
   "cell_type": "markdown",
   "id": "37174cdd",
   "metadata": {},
   "source": [
    "I will demonstrate a standard A/B testing procedure.\n",
    "\n",
    "### Pre-Treatment Balance Check\n",
    "First, I will check pre-treatment balance between the treatment and control groups, to ensure that any observed post-treatment differences in outcomes can credibly be attributed to the treatment and not to pre-existing differences between the groups.\n",
    "\n",
    "Since stratification and experiment assignment takes place at the city level, controlling for `Driver_City` is needed.\n",
    "\n",
    "Since assignment is clustered (by driver), cluster-robust standard errors are needed for accurate results.\n",
    "\n",
    "$$\\text{TimeDriving\\_Minutes}_{i, \\text{pre}} = \\beta_0 + \\beta_1 \\text{Treated}_i + \\sum_{c=1}^{C-1} \\gamma_c \\text{Driver\\_City}_{ic} + \\epsilon_i$$"
   ]
  },
  {
   "cell_type": "code",
   "execution_count": 8,
   "id": "b3411606",
   "metadata": {},
   "outputs": [
    {
     "name": "stdout",
     "output_type": "stream",
     "text": [
      "                             OLS Regression Results                            \n",
      "===============================================================================\n",
      "Dep. Variable:     TimeDriving_Minutes   R-squared:                       0.024\n",
      "Model:                             OLS   Adj. R-squared:                  0.024\n",
      "Method:                  Least Squares   F-statistic:                     421.3\n",
      "Date:                 Sun, 15 Jun 2025   Prob (F-statistic):               0.00\n",
      "Time:                         19:28:02   Log-Likelihood:            -6.2779e+07\n",
      "No. Observations:              9277600   AIC:                         1.256e+08\n",
      "Df Residuals:                  9277569   BIC:                         1.256e+08\n",
      "Df Model:                           30                                         \n",
      "Covariance Type:               cluster                                         \n",
      "========================================================================================\n",
      "                           coef    std err          z      P>|z|      [0.025      0.975]\n",
      "----------------------------------------------------------------------------------------\n",
      "Intercept              166.2191      0.971    171.249      0.000     164.317     168.121\n",
      "C(Driver_City)[T.4]    -41.9006      1.700    -24.642      0.000     -45.233     -38.568\n",
      "C(Driver_City)[T.5]     79.1888      1.351     58.625      0.000      76.541      81.836\n",
      "C(Driver_City)[T.6]     -8.3382      1.452     -5.744      0.000     -11.183      -5.493\n",
      "C(Driver_City)[T.7]    -18.0366      1.222    -14.759      0.000     -20.432     -15.641\n",
      "C(Driver_City)[T.8]     -4.8072      1.332     -3.609      0.000      -7.418      -2.197\n",
      "C(Driver_City)[T.10]     1.4209      2.059      0.690      0.490      -2.615       5.456\n",
      "C(Driver_City)[T.12]   -10.0706      1.186     -8.492      0.000     -12.395      -7.746\n",
      "C(Driver_City)[T.14]     4.5617      1.276      3.576      0.000       2.061       7.062\n",
      "C(Driver_City)[T.15]    -9.5521      1.936     -4.934      0.000     -13.347      -5.758\n",
      "C(Driver_City)[T.20]   -16.5967      1.776     -9.343      0.000     -20.078     -13.115\n",
      "C(Driver_City)[T.21]   -35.4663      1.707    -20.775      0.000     -38.812     -32.120\n",
      "C(Driver_City)[T.22]   -28.9075      2.433    -11.882      0.000     -33.676     -24.139\n",
      "C(Driver_City)[T.23]   -18.7051      1.514    -12.356      0.000     -21.672     -15.738\n",
      "C(Driver_City)[T.24]   -39.5698      1.603    -24.688      0.000     -42.711     -36.428\n",
      "C(Driver_City)[T.25]   -35.2514      1.540    -22.885      0.000     -38.271     -32.232\n",
      "C(Driver_City)[T.26]   -40.1168      1.605    -24.996      0.000     -43.262     -36.971\n",
      "C(Driver_City)[T.27]   -25.2891      1.882    -13.440      0.000     -28.977     -21.601\n",
      "C(Driver_City)[T.28]   -30.1662      2.354    -12.813      0.000     -34.781     -25.552\n",
      "C(Driver_City)[T.29]   -29.9602      3.716     -8.063      0.000     -37.243     -22.678\n",
      "C(Driver_City)[T.30]   -21.0587      1.935    -10.884      0.000     -24.851     -17.266\n",
      "C(Driver_City)[T.35]   -22.6142      2.312     -9.780      0.000     -27.146     -18.082\n",
      "C(Driver_City)[T.40]   -30.0090      2.478    -12.108      0.000     -34.867     -25.151\n",
      "C(Driver_City)[T.41]   -34.4360      3.122    -11.031      0.000     -40.555     -28.317\n",
      "C(Driver_City)[T.45]   -46.6991      2.293    -20.362      0.000     -51.194     -42.204\n",
      "C(Driver_City)[T.48]   -40.4766      3.393    -11.931      0.000     -47.126     -33.827\n",
      "C(Driver_City)[T.49]   -39.4000      2.907    -13.555      0.000     -45.097     -33.703\n",
      "C(Driver_City)[T.50]   -35.2465      2.114    -16.673      0.000     -39.390     -31.103\n",
      "C(Driver_City)[T.88]   -27.3332      2.951     -9.263      0.000     -33.117     -21.550\n",
      "C(Driver_City)[T.93]   -35.8070      2.541    -14.091      0.000     -40.788     -30.826\n",
      "Treated                  0.1305      0.509      0.257      0.798      -0.866       1.127\n",
      "==============================================================================\n",
      "Omnibus:                  2474863.041   Durbin-Watson:                   1.257\n",
      "Prob(Omnibus):                  0.000   Jarque-Bera (JB):          6116439.579\n",
      "Skew:                           1.479   Prob(JB):                         0.00\n",
      "Kurtosis:                       5.660   Cond. No.                         25.2\n",
      "==============================================================================\n",
      "\n",
      "Notes:\n",
      "[1] Standard Errors are robust to cluster correlation (cluster)\n"
     ]
    }
   ],
   "source": [
    "pre_treatment_df = df[df['After'] == 0]\n",
    "model = smf.ols('TimeDriving_Minutes ~ Treated + C(Driver_City)', data=pre_treatment_df).fit(cov_type='cluster', cov_kwds={'groups': pre_treatment_df['Driver_ID']})\n",
    "print(model.summary())"
   ]
  },
  {
   "cell_type": "markdown",
   "id": "201b9688",
   "metadata": {},
   "source": [
    "The p-value is incredibly high, meaning that the assignment of treatment is not statistically significant. This suggests that the treatment and control groups are randomized as expected."
   ]
  },
  {
   "cell_type": "code",
   "execution_count": 9,
   "id": "cfe0fca3",
   "metadata": {},
   "outputs": [
    {
     "name": "stdout",
     "output_type": "stream",
     "text": [
      "Treated p-value: 0.7975\n"
     ]
    }
   ],
   "source": [
    "print(f\"Treated p-value: {model.pvalues['Treated']:.4f}\")"
   ]
  },
  {
   "cell_type": "markdown",
   "id": "42e8fc27",
   "metadata": {},
   "source": [
    "### Standard A/B Testing Regression"
   ]
  },
  {
   "cell_type": "markdown",
   "id": "20046507",
   "metadata": {},
   "source": [
    "$$\\text{TimeDriving\\_Minutes}_{i, \\text{post}} = \\beta_0 + \\beta_1 \\text{Treated}_i + \\sum_{c=1}^{C-1} \\gamma_c \\text{Driver\\_City}_{ic} + \\epsilon_i$$"
   ]
  },
  {
   "cell_type": "code",
   "execution_count": 10,
   "id": "f7b7a919",
   "metadata": {},
   "outputs": [
    {
     "name": "stdout",
     "output_type": "stream",
     "text": [
      "                             OLS Regression Results                            \n",
      "===============================================================================\n",
      "Dep. Variable:     TimeDriving_Minutes   R-squared:                       0.008\n",
      "Model:                             OLS   Adj. R-squared:                  0.008\n",
      "Method:                  Least Squares   F-statistic:                     187.1\n",
      "Date:                 Sun, 15 Jun 2025   Prob (F-statistic):               0.00\n",
      "Time:                         19:28:10   Log-Likelihood:            -1.1738e+07\n",
      "No. Observations:              1724948   AIC:                         2.348e+07\n",
      "Df Residuals:                  1724934   BIC:                         2.348e+07\n",
      "Df Model:                           13                                         \n",
      "Covariance Type:               cluster                                         \n",
      "========================================================================================\n",
      "                           coef    std err          z      P>|z|      [0.025      0.975]\n",
      "----------------------------------------------------------------------------------------\n",
      "Intercept              200.2559      1.294    154.732      0.000     197.719     202.793\n",
      "C(Driver_City)[T.4]    -74.0487      2.208    -33.540      0.000     -78.376     -69.722\n",
      "C(Driver_City)[T.6]    -26.3165      1.770    -14.865      0.000     -29.786     -22.847\n",
      "C(Driver_City)[T.7]    -32.5275      1.569    -20.728      0.000     -35.603     -29.452\n",
      "C(Driver_City)[T.8]    -16.3205      1.709     -9.550      0.000     -19.670     -12.971\n",
      "C(Driver_City)[T.10]   -16.3333      2.493     -6.551      0.000     -21.220     -11.446\n",
      "C(Driver_City)[T.12]   -14.8497      1.580     -9.401      0.000     -17.946     -11.754\n",
      "C(Driver_City)[T.21]   -61.3942      2.190    -28.034      0.000     -65.687     -57.102\n",
      "C(Driver_City)[T.24]     2.5654      2.797      0.917      0.359      -2.917       8.048\n",
      "C(Driver_City)[T.25]   -43.4976      2.121    -20.504      0.000     -47.656     -39.340\n",
      "C(Driver_City)[T.26]   -11.6825      2.830     -4.128      0.000     -17.229      -6.136\n",
      "C(Driver_City)[T.28]   -64.3393      2.812    -22.877      0.000     -69.852     -58.827\n",
      "C(Driver_City)[T.30]     9.8322      3.100      3.172      0.002       3.756      15.908\n",
      "Treated                  3.4120      0.868      3.933      0.000       1.712       5.112\n",
      "==============================================================================\n",
      "Omnibus:                   408971.641   Durbin-Watson:                   1.247\n",
      "Prob(Omnibus):                  0.000   Jarque-Bera (JB):           892488.227\n",
      "Skew:                           1.375   Prob(JB):                         0.00\n",
      "Kurtosis:                       5.203   Cond. No.                         17.2\n",
      "==============================================================================\n",
      "\n",
      "Notes:\n",
      "[1] Standard Errors are robust to cluster correlation (cluster)\n"
     ]
    }
   ],
   "source": [
    "post_treatment_df = df[df['After'] == 1]\n",
    "model = smf.ols('TimeDriving_Minutes ~ Treated + C(Driver_City)', data=post_treatment_df).fit(cov_type='cluster', cov_kwds={'groups': post_treatment_df['Driver_ID']})\n",
    "print(model.summary())"
   ]
  },
  {
   "cell_type": "code",
   "execution_count": 11,
   "id": "6a617647",
   "metadata": {},
   "outputs": [
    {
     "name": "stdout",
     "output_type": "stream",
     "text": [
      "Treated p-value: 0.0001\n",
      "Level effect: 3.41 minutes increase per day\n",
      "Percent effect: 1.94% relative to control group mean of 175.44 minutes per day\n"
     ]
    }
   ],
   "source": [
    "print(f\"Treated p-value: {model.pvalues['Treated']:.4f}\")\n",
    "\n",
    "level_effect = model.params['Treated']\n",
    "print(f\"Level effect: {level_effect:.2f} minutes increase per day\")\n",
    "\n",
    "control_mean = post_treatment_df[post_treatment_df['Treated'] == 0]['TimeDriving_Minutes'].mean()\n",
    "\n",
    "percent_effect = 100 * level_effect / control_mean\n",
    "print(f\"Percent effect: {percent_effect:.2f}% relative to control group mean of {control_mean:.2f} minutes per day\")"
   ]
  },
  {
   "cell_type": "markdown",
   "id": "7573477d",
   "metadata": {},
   "source": [
    "While the results might look convincing, this is very misleading due to the following reasons:\n",
    "- Ommited Variable Bias\n",
    "    - The regression does not control for driver-specific characteristics or time fixed effects.\n",
    "    - Without these controls, differences in behavior across drivers or over time can bias the estimated treatment effect.\n",
    "- No Use of Pre-treatment Baseline\n",
    "    - The model ignores pre-treatment outcomes, missing the opportunity to adjust for baseline differences in driving behavior across treatment and control groups.\n",
    "- Staggered Treatment Assignment\n",
    "    - Drivers are enrolled on different dates across cities.\n",
    "    - Failing to account for this timing can confound treatment effects with calendar effects such as seasonality, market shifts, or external shocks.\n",
    "- Rolling Enrollment and Selection Bias\n",
    "    - Drivers were continuously added to the experiment as they became newly eligible.\n",
    "    - Without accounting for entry timing, the model risks comparing drivers at different stages or with different underlying characteristics, leading to biased estimates.\n",
    "\n",
    "### Standard Regression with Time Fixed Effects\n",
    "In the later sections of this notebook, these biases will be addressed using more appropriate techniques. We begin by adding time and driver fixed effects to mitigate omitted variable bias in the panel data setting.\n",
    "\n",
    "Notice that we cannot add driver fixed effects to our regression because of its collinearity with treated."
   ]
  },
  {
   "cell_type": "markdown",
   "id": "4525e9ef",
   "metadata": {},
   "source": [
    "$$\\text{TimeDriving\\_Minutes}_{i, \\text{post}} = \\beta_0 + \\beta_1 \\text{Treated}_i + \\sum_{c=1}^{C-1} \\gamma_c \\text{Driver\\_City}_{ic} + \\sum_{d=1}^{D-1} \\delta_d \\text{Date}_{td} + \\epsilon_i$$"
   ]
  },
  {
   "cell_type": "code",
   "execution_count": 12,
   "id": "c8401cc0",
   "metadata": {},
   "outputs": [
    {
     "name": "stdout",
     "output_type": "stream",
     "text": [
      "                             OLS Regression Results                            \n",
      "===============================================================================\n",
      "Dep. Variable:     TimeDriving_Minutes   R-squared:                       0.045\n",
      "Model:                             OLS   Adj. R-squared:                  0.045\n",
      "Method:                  Least Squares   F-statistic:                     1444.\n",
      "Date:                 Sun, 15 Jun 2025   Prob (F-statistic):               0.00\n",
      "Time:                         19:28:32   Log-Likelihood:            -1.1706e+07\n",
      "No. Observations:              1724948   AIC:                         2.341e+07\n",
      "Df Residuals:                  1724903   BIC:                         2.341e+07\n",
      "Df Model:                           44                                         \n",
      "Covariance Type:               cluster                                         \n",
      "===============================================================================================================\n",
      "                                                  coef    std err          z      P>|z|      [0.025      0.975]\n",
      "---------------------------------------------------------------------------------------------------------------\n",
      "Intercept                                     165.2612      3.703     44.630      0.000     158.004     172.519\n",
      "C(Driver_City)[T.4]                           -73.9675      2.186    -33.831      0.000     -78.253     -69.682\n",
      "C(Driver_City)[T.6]                           -25.3472      1.767    -14.344      0.000     -28.811     -21.884\n",
      "C(Driver_City)[T.7]                           -32.9145      1.554    -21.174      0.000     -35.961     -29.868\n",
      "C(Driver_City)[T.8]                           -17.0296      1.693    -10.057      0.000     -20.348     -13.711\n",
      "C(Driver_City)[T.10]                          -13.4771      2.480     -5.435      0.000     -18.337      -8.617\n",
      "C(Driver_City)[T.12]                          -23.7105      1.567    -15.128      0.000     -26.782     -20.639\n",
      "C(Driver_City)[T.21]                          -58.3085      2.181    -26.733      0.000     -62.584     -54.033\n",
      "C(Driver_City)[T.24]                          -51.7560      2.815    -18.386      0.000     -57.273     -46.239\n",
      "C(Driver_City)[T.25]                          -43.5688      2.105    -20.700      0.000     -47.694     -39.444\n",
      "C(Driver_City)[T.26]                          -68.9478      2.846    -24.224      0.000     -74.526     -63.369\n",
      "C(Driver_City)[T.28]                          -62.0358      2.840    -21.844      0.000     -67.602     -56.470\n",
      "C(Driver_City)[T.30]                          -47.6421      3.109    -15.324      0.000     -53.736     -41.549\n",
      "C(Date)[T.Timestamp('2016-03-17 00:00:00')]    69.1417      4.856     14.238      0.000      59.624      78.659\n",
      "C(Date)[T.Timestamp('2016-03-18 00:00:00')]    78.2036      5.115     15.290      0.000      68.179      88.228\n",
      "C(Date)[T.Timestamp('2016-03-19 00:00:00')]   109.0275      6.049     18.023      0.000      97.171     120.884\n",
      "C(Date)[T.Timestamp('2016-03-20 00:00:00')]   -23.3815      4.591     -5.092      0.000     -32.381     -14.383\n",
      "C(Date)[T.Timestamp('2016-03-21 00:00:00')]   -18.8584      4.093     -4.607      0.000     -26.881     -10.836\n",
      "C(Date)[T.Timestamp('2016-03-22 00:00:00')]     1.1350      3.691      0.307      0.758      -6.100       8.370\n",
      "C(Date)[T.Timestamp('2016-03-23 00:00:00')]     8.5563      3.679      2.326      0.020       1.345      15.768\n",
      "C(Date)[T.Timestamp('2016-03-24 00:00:00')]    36.1254      3.629      9.955      0.000      29.013      43.238\n",
      "C(Date)[T.Timestamp('2016-03-25 00:00:00')]    64.6007      3.714     17.396      0.000      57.322      71.879\n",
      "C(Date)[T.Timestamp('2016-03-26 00:00:00')]    43.5326      3.744     11.626      0.000      36.194      50.871\n",
      "C(Date)[T.Timestamp('2016-03-27 00:00:00')]   -27.0538      3.673     -7.365      0.000     -34.253     -19.855\n",
      "C(Date)[T.Timestamp('2016-03-28 00:00:00')]   -15.0236      3.520     -4.268      0.000     -21.923      -8.124\n",
      "C(Date)[T.Timestamp('2016-03-29 00:00:00')]    -4.8977      3.514     -1.394      0.163     -11.785       1.989\n",
      "C(Date)[T.Timestamp('2016-03-30 00:00:00')]     6.6998      3.515      1.906      0.057      -0.189      13.589\n",
      "C(Date)[T.Timestamp('2016-03-31 00:00:00')]    27.5972      3.532      7.814      0.000      20.676      34.519\n",
      "C(Date)[T.Timestamp('2016-04-01 00:00:00')]    65.8729      3.536     18.627      0.000      58.942      72.804\n",
      "C(Date)[T.Timestamp('2016-04-02 00:00:00')]    66.3219      3.560     18.630      0.000      59.344      73.299\n",
      "C(Date)[T.Timestamp('2016-04-03 00:00:00')]    -6.9556      3.526     -1.972      0.049     -13.867      -0.044\n",
      "C(Date)[T.Timestamp('2016-04-04 00:00:00')]    -5.3809      3.511     -1.533      0.125     -12.262       1.500\n",
      "C(Date)[T.Timestamp('2016-04-05 00:00:00')]     4.1689      3.513      1.187      0.235      -2.716      11.054\n",
      "C(Date)[T.Timestamp('2016-04-06 00:00:00')]    17.8935      3.513      5.094      0.000      11.008      24.779\n",
      "C(Date)[T.Timestamp('2016-04-07 00:00:00')]    42.9397      3.521     12.194      0.000      36.038      49.842\n",
      "C(Date)[T.Timestamp('2016-04-08 00:00:00')]    79.4297      3.546     22.399      0.000      72.479      86.380\n",
      "C(Date)[T.Timestamp('2016-04-09 00:00:00')]    76.3240      3.562     21.424      0.000      69.342      83.306\n",
      "C(Date)[T.Timestamp('2016-04-10 00:00:00')]     2.6491      3.535      0.749      0.454      -4.279       9.577\n",
      "C(Date)[T.Timestamp('2016-04-11 00:00:00')]     5.8829      3.521      1.671      0.095      -1.019      12.784\n",
      "C(Date)[T.Timestamp('2016-04-12 00:00:00')]    20.9435      3.522      5.947      0.000      14.041      27.846\n",
      "C(Date)[T.Timestamp('2016-04-13 00:00:00')]    39.5016      3.526     11.202      0.000      32.590      46.413\n",
      "C(Date)[T.Timestamp('2016-04-14 00:00:00')]    66.8557      3.532     18.929      0.000      59.933      73.778\n",
      "C(Date)[T.Timestamp('2016-04-15 00:00:00')]   136.7556      3.558     38.441      0.000     129.783     143.728\n",
      "C(Date)[T.Timestamp('2016-04-16 00:00:00')]   150.9769      3.560     42.406      0.000     143.999     157.955\n",
      "Treated                                         3.3250      0.860      3.866      0.000       1.639       5.011\n",
      "==============================================================================\n",
      "Omnibus:                   426481.782   Durbin-Watson:                   1.250\n",
      "Prob(Omnibus):                  0.000   Jarque-Bera (JB):           994401.248\n",
      "Skew:                           1.397   Prob(JB):                         0.00\n",
      "Kurtosis:                       5.455   Cond. No.                         216.\n",
      "==============================================================================\n",
      "\n",
      "Notes:\n",
      "[1] Standard Errors are robust to cluster correlation (cluster)\n"
     ]
    }
   ],
   "source": [
    "model = smf.ols('TimeDriving_Minutes ~ Treated + C(Driver_City) + C(Date)', data=post_treatment_df).fit(cov_type='cluster', cov_kwds={'groups': post_treatment_df['Driver_ID']})\n",
    "print(model.summary())"
   ]
  },
  {
   "cell_type": "code",
   "execution_count": 13,
   "id": "98d706f1",
   "metadata": {},
   "outputs": [
    {
     "name": "stdout",
     "output_type": "stream",
     "text": [
      "Treated p-value: 0.0001\n",
      "Level effect: 3.33 minutes increase per day\n",
      "Percent effect: 1.90% relative to control group mean of 175.44 minutes per day\n"
     ]
    }
   ],
   "source": [
    "print(f\"Treated p-value: {model.pvalues['Treated']:.4f}\")\n",
    "\n",
    "level_effect = model.params['Treated']\n",
    "print(f\"Level effect: {level_effect:.2f} minutes increase per day\")\n",
    "\n",
    "control_mean = post_treatment_df[post_treatment_df['Treated'] == 0]['TimeDriving_Minutes'].mean()\n",
    "percent_effect = 100 * level_effect / control_mean\n",
    "print(f\"Percent effect: {percent_effect:.2f}% relative to control group mean of {control_mean:.2f} minutes per day\")"
   ]
  },
  {
   "cell_type": "markdown",
   "id": "4affa55a",
   "metadata": {},
   "source": [
    "## Difference-in-Differences\n",
    "It has been mentioned that the previous model ignores pre-treatment outcomes, missing the opportunity to adjust for baseline differences in driving behavior across treatment and control groups.\n",
    "\n",
    "The following regression implements a difference-in-differences (DiD) approach, which compares changes in outcomes before and after treatment across treated and control drivers \n",
    "\n",
    "— allowing us to isolate the treatment effect from underlying trends."
   ]
  },
  {
   "cell_type": "markdown",
   "id": "15217d33",
   "metadata": {},
   "source": [
    "$$\\text{TimeDriving\\_Minutes}_{it} = \\beta_0 + \\beta_1 \\text{After}_{it} + \\beta_2 \\text{Treated}_{i} \\times \\text{After}_{it} + \\mu_i + \\lambda_t + \\epsilon_{it}$$\n",
    "\n",
    "* $\\beta_2$: This is the coefficient for the Interaction term (`Treated`×`After`), which represents the DiD estimator. It captures the causal effect of the treatment.\n",
    "* $\\mu_i$: This represents the EntityEffects (driver-specific fixed effects), accounting for unobserved, time-invariant characteristics of each driver.\n",
    "* $\\lambda_t$: This represents the TimeEffects (time-specific fixed effects), accounting for unobserved shocks common to all drivers at a specific time.\n",
    "* $\\epsilon_{it}$: This is the error term, representing unobserved factors not included in the model."
   ]
  },
  {
   "cell_type": "code",
   "execution_count": 14,
   "id": "f57428a1",
   "metadata": {},
   "outputs": [
    {
     "name": "stdout",
     "output_type": "stream",
     "text": [
      "                           PanelOLS Estimation Summary                           \n",
      "=================================================================================\n",
      "Dep. Variable:     TimeDriving_Minutes   R-squared:                      2.15e-05\n",
      "Estimator:                    PanelOLS   R-squared (Between):              0.0035\n",
      "No. Observations:             11002548   R-squared (Within):            8.175e-05\n",
      "Date:                 Sun, Jun 15 2025   R-squared (Overall):              0.0024\n",
      "Time:                         19:29:21   Log-likelihood                -7.235e+07\n",
      "Cov. Estimator:              Clustered                                           \n",
      "                                         F-statistic:                      115.67\n",
      "Entities:                       243557   P-value                           0.0000\n",
      "Avg Obs:                        45.174   Distribution:              F(2,10758930)\n",
      "Min Obs:                        1.0000                                           \n",
      "Max Obs:                        60.000   F-statistic (robust):             54.655\n",
      "                                         P-value                           0.0000\n",
      "Time periods:                       60   Distribution:              F(2,10758930)\n",
      "Avg Obs:                     1.834e+05                                           \n",
      "Min Obs:                     8.214e+04                                           \n",
      "Max Obs:                     2.068e+05                                           \n",
      "                                                                                 \n",
      "                              Parameter Estimates                              \n",
      "===============================================================================\n",
      "             Parameter  Std. Err.     T-stat    P-value    Lower CI    Upper CI\n",
      "-------------------------------------------------------------------------------\n",
      "After           2.3079     0.4040     5.7130     0.0000      1.5161      3.0997\n",
      "Interaction     1.6758     0.4991     3.3578     0.0008      0.6976      2.6539\n",
      "===============================================================================\n",
      "\n",
      "F-test for Poolability: 22.806\n",
      "P-value: 0.0000\n",
      "Distribution: F(243615,10758930)\n",
      "\n",
      "Included effects: Entity, Time\n"
     ]
    }
   ],
   "source": [
    "# smf gives memory error when using large datasets, so we use linearmodels instead\n",
    "df_panel = df.copy()\n",
    "df_panel = df_panel.set_index(['Driver_ID', 'Date'])\n",
    "df_panel['Interaction'] = df_panel['Treated'] * df_panel['After']\n",
    "\n",
    "model = PanelOLS.from_formula(\n",
    "    'TimeDriving_Minutes ~ After + Interaction + EntityEffects + TimeEffects', # omit treated to avoid collinearity with entity (driver id)\n",
    "    data=df_panel\n",
    ").fit(cov_type='clustered', cluster_entity=True, low_memory=True)\n",
    "\n",
    "print(model.summary)"
   ]
  },
  {
   "cell_type": "code",
   "execution_count": 15,
   "id": "2b6a35c8",
   "metadata": {},
   "outputs": [
    {
     "name": "stdout",
     "output_type": "stream",
     "text": [
      "Level effect (DiD estimate): 1.68 minutes increase in time driven per day\n",
      "Percent effect: 1.04% increase relative to control group's pre-treatment average of 160.79 minutes per day\n"
     ]
    }
   ],
   "source": [
    "level_effect = model.params['Interaction']\n",
    "print(f\"Level effect (DiD estimate): {level_effect:.2f} minutes increase in time driven per day\")\n",
    "\n",
    "control_pre_mean = df_panel[(df_panel['Treated'] == 0) & (df_panel['After'] == 0)]['TimeDriving_Minutes'].mean()\n",
    "\n",
    "percent_effect = 100 * level_effect / control_pre_mean\n",
    "print(f\"Percent effect: {percent_effect:.2f}% increase relative to control group's pre-treatment average of {control_pre_mean:.2f} minutes per day\")"
   ]
  },
  {
   "cell_type": "markdown",
   "id": "13fddbd1",
   "metadata": {},
   "source": [
    "The results seem to indicate that the driver-incentive program has little effect on number of minutes driven. \n",
    "\n",
    "However, it's important to revisit how the experiment was implemented: within each city, new SQL queries were re-run daily to identify and add newly qualified drivers into the control and treatment groups.\n",
    "\n",
    "This means that **eligibility**, and therefore inclusion in the experiment, is **directly tied to recent driver activity**. For a driver to newly qualify, they must have increased their activity enough to move into the top quartile of driving minutes in the previous month.\n",
    "\n",
    "**This creates a serious concern for a DiD setup**, which relies on the exogeneity of treatment timing. In this case, some \"treated\" drivers were enrolled early, while others only became eligible later due to an uptick in recent activity. As a result, the DiD estimator may compare the post-treatment outcomes of early-treated drivers to the pre-treatment outcomes of later-treated (but highly active) drivers.\n",
    "\n",
    "Since these later entrants are especially active by design, this contaminates the counterfactual, leading to a downward bias in the estimated treatment effect — i.e., the true causal effect may be underestimated."
   ]
  },
  {
   "cell_type": "markdown",
   "id": "cd4739f5",
   "metadata": {},
   "source": [
    "### Addressing Endogeneity Concerns Using Interaction Fixed Effects"
   ]
  },
  {
   "cell_type": "markdown",
   "id": "325bb806",
   "metadata": {},
   "source": [
    "It’s important to note that stratification and experiment assignment occur within each release date cohort, not across them. Therefore, by controlling for experiment cohorts (defined as `Driver_City` x `Driver_ExperStartDate`), comparisons are made at the driver and date level within the same cohort, where a cohort is defined by a unique combination of `Driver_City` and `Driver_ExperStartDate`. Since `Date` is also being controlled, this means we are isolating variation across treated and control drivers on the same calendar day within the same rollout group, controlling for both location-specific and temporal confounders.\n",
    "\n",
    "$$\\text{TimeDriving\\_Minutes}_{it} = \\beta_1 \\text{Treated}_i + \\beta_2 \\text{After}_{it} + \\beta_3 (\\text{Treated}_{i} \\times \\text{After}_{it}) + \\mu_{\\text{city}_i, \\text{expstart}_i} + \\lambda_t + \\epsilon_{it}$$"
   ]
  },
  {
   "cell_type": "code",
   "execution_count": 16,
   "id": "2e4ae541",
   "metadata": {},
   "outputs": [
    {
     "name": "stdout",
     "output_type": "stream",
     "text": [
      "                          Absorbing LS Estimation Summary                          \n",
      "===================================================================================\n",
      "Dep. Variable:     TimeDriving_Minutes   R-squared:                          0.0665\n",
      "Estimator:                Absorbing LS   Adj. R-squared:                     0.0665\n",
      "No. Observations:             11002548   F-statistic:                        42.126\n",
      "Date:                 Sun, Jun 15 2025   P-value (F-stat):                   0.0000\n",
      "Time:                         19:30:39   Distribution:                      chi2(3)\n",
      "Cov. Estimator:              clustered   R-squared (No Effects):              1e-05\n",
      "                                         Variables Absorbed:                 1041.0\n",
      "                              Parameter Estimates                              \n",
      "===============================================================================\n",
      "             Parameter  Std. Err.     T-stat    P-value    Lower CI    Upper CI\n",
      "-------------------------------------------------------------------------------\n",
      "Treated         0.2061     0.4891     0.4214     0.6734     -0.7525      1.1648\n",
      "After           0.1806     0.5137     0.3517     0.7251     -0.8261      1.1874\n",
      "Interaction     3.0804     0.7544     4.0835     0.0000      1.6019      4.5589\n",
      "===============================================================================\n"
     ]
    }
   ],
   "source": [
    "# To avoid memory issues with large datasets, we use the AbsorbingLS package\n",
    "df_panel = df_panel.reset_index()\n",
    "df_panel['Interaction'] = df_panel['After'] * df_panel['Treated']\n",
    "\n",
    "y = df_panel['TimeDriving_Minutes']\n",
    "X = df_panel[['Treated', 'After', 'Interaction']]\n",
    "\n",
    "df_panel['City_Cohort_FE'] = pd.Categorical(df_panel['Driver_City'].astype(str) + \"_\" + df_panel['Driver_ExperStartDate'].astype(str))\n",
    "df_panel['Date_FE'] = pd.Categorical(df_panel['Date'])\n",
    "\n",
    "absorb = df_panel[['City_Cohort_FE', 'Date_FE']]\n",
    "\n",
    "model = AbsorbingLS(y, X, absorb=absorb)\n",
    "result = model.fit(cov_type='clustered', clusters=df_panel['Driver_ID'])\n",
    "\n",
    "print(result.summary)"
   ]
  },
  {
   "cell_type": "code",
   "execution_count": 17,
   "id": "92f47dfa",
   "metadata": {},
   "outputs": [
    {
     "name": "stdout",
     "output_type": "stream",
     "text": [
      "Level effect (DiD estimate): 3.08 minutes increase in time driven per day\n",
      "Percent effect: 1.92% increase relative to control group’s pre-treatment average of 160.79 minutes per day\n"
     ]
    }
   ],
   "source": [
    "level_effect = result.params['Interaction']\n",
    "print(f\"Level effect (DiD estimate): {level_effect:.2f} minutes increase in time driven per day\")\n",
    "\n",
    "control_pre_mean = df_panel[(df_panel['Treated'] == 0) & (df_panel['After'] == 0)]['TimeDriving_Minutes'].mean()\n",
    "percent_effect = 100 * level_effect / control_pre_mean\n",
    "print(f\"Percent effect: {percent_effect:.2f}% increase relative to control group’s pre-treatment average of {control_pre_mean:.2f} minutes per day\")"
   ]
  },
  {
   "cell_type": "markdown",
   "id": "a8c3f110",
   "metadata": {},
   "source": [
    "#### An Alternative Method: Cohort x Date Fixed Effects"
   ]
  },
  {
   "cell_type": "markdown",
   "id": "a61e7e75",
   "metadata": {},
   "source": [
    "An alternative specification is to include `Cohort` × `Date` fixed effects instead of separate `Cohort` fixed effects and `Date` fixed effects. This allows the estimation to flexibly vary across time within each cohort, thereby absorbing more variation and controlling for any time-varying unobservables that may differ across cohorts.\n",
    "\n",
    "However, when `Cohort` × `Date` fixed effects are included, the `After` indicator becomes perfectly collinear with these fixed effects, because for each cohort, we know exactly when the post-treatment period starts. In other words, the `After` variable is fully captured by the interaction of cohort and calendar date. Thus, it should be omitted from the regression to avoid multicollinearity.\n",
    "\n",
    "Additionally, since `Treated` is exogenous and is restrictively randomly assigned, it should not have any effect on the outcome variable. Hence, it can be ommitted for simplicity. Therefore, the identifying variation comes entirely from the interaction term `Treated` × `After`, which varies both across units and over time. This term captures the intent-to-treat effect in a difference-in-differences framework.\n",
    "\n",
    "$$\\text{TimeDriving\\_Minutes}_{it} = \\beta_1 (\\text{Treated}_{i} \\times \\text{After}_{it}) + \\mu_{\\text{city}_i, \\text{expstart}_i, \\text{date}_t} + \\epsilon_{it}$$"
   ]
  },
  {
   "cell_type": "code",
   "execution_count": 18,
   "id": "cb346c6c",
   "metadata": {},
   "outputs": [
    {
     "name": "stdout",
     "output_type": "stream",
     "text": [
      "                          Absorbing LS Estimation Summary                          \n",
      "===================================================================================\n",
      "Dep. Variable:     TimeDriving_Minutes   R-squared:                          0.0767\n",
      "Estimator:                Absorbing LS   Adj. R-squared:                     0.0719\n",
      "No. Observations:             11002548   F-statistic:                        15.330\n",
      "Date:                 Sun, Jun 15 2025   P-value (F-stat):                   0.0001\n",
      "Time:                         19:31:27   Distribution:                      chi2(1)\n",
      "Cov. Estimator:              clustered   R-squared (No Effects):              1e-05\n",
      "                                         Variables Absorbed:              5.716e+04\n",
      "                              Parameter Estimates                              \n",
      "===============================================================================\n",
      "             Parameter  Std. Err.     T-stat    P-value    Lower CI    Upper CI\n",
      "-------------------------------------------------------------------------------\n",
      "Interaction     3.3537     0.8566     3.9154     0.0001      1.6749      5.0326\n",
      "===============================================================================\n"
     ]
    }
   ],
   "source": [
    "y = df_panel['TimeDriving_Minutes']\n",
    "X = df_panel['Interaction']\n",
    "\n",
    "df_panel['City_Cohort_Date_FE'] = pd.Categorical(df_panel['Driver_City'].astype(str) + \"_\" + df_panel['Driver_ExperStartDate'].astype(str) + \"_\" + df_panel['Date'].astype(str))\n",
    "\n",
    "absorb = df_panel[['City_Cohort_Date_FE']]\n",
    "\n",
    "model = AbsorbingLS(y, X, absorb=absorb)\n",
    "result = model.fit(cov_type='clustered', clusters=df_panel['Driver_ID'])\n",
    "\n",
    "print(result.summary)"
   ]
  },
  {
   "cell_type": "code",
   "execution_count": 19,
   "id": "81c7e9c1",
   "metadata": {},
   "outputs": [
    {
     "name": "stdout",
     "output_type": "stream",
     "text": [
      "Level effect (DiD estimate): 3.35 minutes increase in time driven per day\n",
      "Percent effect: 2.09% increase relative to control group’s pre-treatment average of 160.79 minutes per day\n"
     ]
    }
   ],
   "source": [
    "level_effect = result.params['Interaction']\n",
    "print(f\"Level effect (DiD estimate): {level_effect:.2f} minutes increase in time driven per day\")\n",
    "\n",
    "control_pre_mean = df_panel[(df_panel['Treated'] == 0) & (df_panel['After'] == 0)]['TimeDriving_Minutes'].mean()\n",
    "percent_effect = 100 * level_effect / control_pre_mean\n",
    "print(f\"Percent effect: {percent_effect:.2f}% increase relative to control group’s pre-treatment average of {control_pre_mean:.2f} minutes per day\")"
   ]
  },
  {
   "cell_type": "markdown",
   "id": "c0ae535f",
   "metadata": {},
   "source": [
    "The estimated effect is larger than in the first DiD regression that we ran, supporting our hypothesis that later entrants may be more active than early ones.\n",
    "\n",
    "It's important to remember that this is an Intent-to-Treat (ITT) estimate. At first glance, the effect size may appear to be mediocre, potentially suggesting that the incentive program isn’t very effective. However, keep in mind that the treatment here simply involved sending an email invitation, not actual program participation. In fact, the cumulative application rate never exceeds 18%, meaning that the majority of treated drivers never enrolled.\n",
    "\n",
    "This raises a natural question: *Can we estimate the effect of the program on those who actually applied or enrolled?* \n",
    "\n",
    "A tempting approach might be to rerun the regression using `Applied` or `Enrolled` as the treatment indicator. However, both application and enrollment are endogenous, meaning that they’re likely influenced by unobserved factors (e.g., driver motivation or income needs) that also affect outcomes. As a result, the coefficients from such a model would be biased and not causal. For example, drivers who choose to apply may be more financially motivated and would likely drive more regardless of the program, making it difficult to isolate the program’s true impact.\n",
    "\n",
    "![](DAG.png)"
   ]
  },
  {
   "cell_type": "markdown",
   "id": "adfc4f59",
   "metadata": {},
   "source": [
    "## Instrumental Variables Regression"
   ]
  },
  {
   "cell_type": "markdown",
   "id": "7881e066",
   "metadata": {},
   "source": [
    "To estimate the true causal effect of program enrollment (`Enrolled`) on driving time (`TimeDriving_Minutes`), we can use an econometric method called Instrumental Variable (IV) Regression. This approach helps address the endogeneity of `Enrolled`, which may be influenced by unobserved confounders like motivation or financial pressure, by isolating only the variation in `Enrolled` that is not confounded.\n",
    "\n",
    "We propose using `Treated` (i.e., whether a driver was assigned to receive the promotional email) as an instrument for `Enrolled`, under the following two assumptions:\n",
    "\n",
    "- **Relevance**: A driver must be assigned `Treated` in order to enroll, so treatment assignment is strongly correlated with enrollment.\n",
    "- **Exclusion Restriction**: Treatment assignment affects driving time only through enrollment, and not through any other channel.\n",
    "\n",
    "If these assumptions hold, then `Treated` can serve as a valid instrument, and the IV estimate will capture the **Local Average Treatment Effect (LATE)**—i.e., the causal effect of enrolling for those who enroll only because they were treated (compliers).\n",
    "\n",
    "In our context, it can be convincingly argued that these two assumptions hold."
   ]
  },
  {
   "cell_type": "code",
   "execution_count": 20,
   "id": "463a48f6",
   "metadata": {},
   "outputs": [],
   "source": [
    "df_panel.drop(columns=['Interaction'], inplace=True)\n",
    "df_panel.to_csv('data/Processed_Data.csv', index=False)"
   ]
  },
  {
   "cell_type": "markdown",
   "id": "f1994088",
   "metadata": {},
   "source": [
    "Since R has more variety in IV packages, the following analysis will be conducted in R."
   ]
  }
 ],
 "metadata": {
  "kernelspec": {
   "display_name": "sklearn",
   "language": "python",
   "name": "python3"
  },
  "language_info": {
   "codemirror_mode": {
    "name": "ipython",
    "version": 3
   },
   "file_extension": ".py",
   "mimetype": "text/x-python",
   "name": "python",
   "nbconvert_exporter": "python",
   "pygments_lexer": "ipython3",
   "version": "3.9.21"
  }
 },
 "nbformat": 4,
 "nbformat_minor": 5
}
